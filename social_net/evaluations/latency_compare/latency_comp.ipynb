{
 "cells": [
  {
   "cell_type": "code",
   "execution_count": null,
   "metadata": {},
   "outputs": [],
   "source": [
    "'''Latency comparing under diferent strategies for different reqest (to different MS UM-DM pair)\n",
    "(1) stategies: default, TraDE, OptTraffic, ( NetMasks)\n",
    "(2) UM-DM pairs: Readhometimeline, Composepost, (the other two from hotel reservation)]\n",
    "(3) node delay anomaly injections: no delay, with dealy\n",
    "'''\n"
   ]
  },
  {
   "cell_type": "code",
   "execution_count": null,
   "metadata": {},
   "outputs": [],
   "source": [
    "''' with  '''\n",
    "'''Plot1: p99 latency for one MS (read-home time line)), varing  QPS\n",
    "data needed: [algo, MS, latency]\n",
    "plot: axis\n",
    "\n",
    "'''\n",
    "\n",
    "k8s_QPS_latency = [[50, 0.45], [100, 0.29], [150, 0.36], [200, 0.49], [250, 0.61], [300, 0.65], [350, 0.87], \n",
    "               [400, 1.12], [500, 1.45], [600, 1.93], [800, 8.17], [900, 11.26], [1000, 26.55], \n",
    "               [1200, 40.44], [1400, 67.2], [1600, 79.8], [1800, 81], [2000, 87.6]]\n",
    "\n",
    "optTraffic =[]\n",
    "TraDe  =[]\n",
    "NetMASKS = []\n",
    "\n",
    "'''Plot bars with comaprisions'''"
   ]
  },
  {
   "cell_type": "code",
   "execution_count": null,
   "metadata": {},
   "outputs": [],
   "source": []
  }
 ],
 "metadata": {
  "language_info": {
   "name": "python"
  }
 },
 "nbformat": 4,
 "nbformat_minor": 2
}
