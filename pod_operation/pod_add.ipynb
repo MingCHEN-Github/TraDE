{
 "cells": [
  {
   "cell_type": "code",
   "execution_count": null,
   "metadata": {},
   "outputs": [],
   "source": [
    "from math import exp\n",
    "from kubernetes import client, config\n",
    "\n",
    "def scaling_rate_count(workload_perf, resource_util):\n",
    "    # calculate the scaling rate based on current workload performance and resource utilization\n",
    "    # To be updated.......\n",
    "    scaling_rate = exp(workload_perf + resource_util)\n",
    "    return scaling_rate\n",
    "\n",
    "def set_node_affinity(deployment):\n",
    "    # Define the node affinity rule\n",
    "    affinity = client.V1Affinity(\n",
    "        node_affinity=client.V1NodeAffinity(\n",
    "            required_during_scheduling_ignored_during_execution=client.V1NodeSelector(\n",
    "                node_selector_terms=[\n",
    "                    client.V1NodeSelectorTerm(\n",
    "                        match_expressions=[\n",
    "                            client.V1NodeSelectorRequirement(\n",
    "                                key=\"kubernetes.io/hostname\",\n",
    "                                operator=\"In\",\n",
    "                                values=[\"microk8snode1\"]  # scaled pods will be scheduled on the node; Multiple nodes can be added here\n",
    "                            )\n",
    "                        ]\n",
    "                    )\n",
    "                ]\n",
    "            )\n",
    "        )\n",
    "    )\n",
    "    \n",
    "    # Set the affinity in the deployment's pod template\n",
    "    if deployment.spec.template.spec.affinity:\n",
    "        deployment.spec.template.spec.affinity.node_affinity = affinity.node_affinity\n",
    "    else:\n",
    "        deployment.spec.template.spec.affinity = affinity\n",
    "\n",
    "def scale_deployment_replicas(deployment_name, namespace, delta_replica_count=2, scaling_rate=1):\n",
    "    \"\"\"\n",
    "    Scale the replica count of a deployment.\n",
    "    \"\"\"\n",
    "    # Load the kube config\n",
    "    config.load_kube_config()\n",
    "    # Create an AppsV1Api instance\n",
    "    api = client.AppsV1Api()\n",
    "\n",
    "    # Fetch the existing deployment\n",
    "    deployment = api.read_namespaced_deployment(deployment_name, namespace)\n",
    "    \n",
    "    # Update the replica count\n",
    "    deployment.spec.replicas = deployment.spec.replicas + delta_replica_count * scaling_rate\n",
    "\n",
    "    # Set node affinity rules to make sure the pod runs on a specific node\n",
    "    # This can be set when rquire the node affinity. This can be cancelled when not required.\n",
    "    set_node_affinity(deployment) \n",
    "    \n",
    "    # Apply the updated deployment spec\n",
    "    api.patch_namespaced_deployment(deployment_name, namespace, deployment)\n",
    "    \n",
    "    #print how many new pods has been added successfully\n",
    "    print(\"Deployment {} in namespace {} scaled to {} replicas\".format(deployment_name, namespace, deployment.spec.replicas))\n",
    "\n",
    "\n"
   ]
  },
  {
   "cell_type": "code",
   "execution_count": null,
   "metadata": {},
   "outputs": [],
   "source": [
    "# Test usage\n",
    "deployment_name = \"reviews-v1\"\n",
    "namespace = \"default\"\n",
    "delat_replica_count = 1  # adjust this to your desired count\n",
    "scale_deployment_replicas(deployment_name, namespace, delta_replica_count = delat_replica_count, scaling_rate=1)"
   ]
  }
 ],
 "metadata": {
  "kernelspec": {
   "display_name": "Python 3",
   "language": "python",
   "name": "python3"
  },
  "language_info": {
   "name": "python",
   "version": "3.10.12"
  }
 },
 "nbformat": 4,
 "nbformat_minor": 2
}
