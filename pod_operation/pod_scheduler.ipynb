{
 "cells": [
  {
   "cell_type": "code",
   "execution_count": null,
   "metadata": {},
   "outputs": [],
   "source": [
    "# write a scheduler based on the four pod operation files\n",
    "from pod_add import add_pod\n",
    "from pod_delete import delete_pod\n",
    "from pod_migrate import migrate_pod\n",
    "from pod_resize import resize_pod"
   ]
  },
  {
   "cell_type": "code",
   "execution_count": null,
   "metadata": {},
   "outputs": [],
   "source": [
    "def caculate_opearation():\n",
    "    \n",
    "    # caculater cluster performance: \n",
    "    #           cluster_perf: cpu, memory, network, disk,... (other metrics)\n",
    "    # cacualte workload performace: \n",
    "    #           workload_QoS: latency_p99, latency_p95, throughput_1, throughput_2,...(other QoS objectives)\n",
    "    # operation = Caculate (cluster_perf, workload_perf)\n",
    "    return operation"
   ]
  },
  {
   "cell_type": "code",
   "execution_count": null,
   "metadata": {},
   "outputs": [],
   "source": [
    "def pod_scheduler(operation, pod_name, namespace):\n",
    "    if operation == 'add':\n",
    "        add_pod(pod_name, namespace)\n",
    "    elif operation == 'delete':\n",
    "        delete_pod(pod_name, namespace)\n",
    "    elif operation == 'migrate':\n",
    "        migrate_pod(pod_name, namespace)\n",
    "    elif operation == 'resize':\n",
    "        resize_pod(pod_name, namespace)\n",
    "    else:\n",
    "        print(\"Invalid operation. Please choose from 'add', 'delete', 'migrate', or 'resize'.\")\n"
   ]
  }
 ],
 "metadata": {
  "language_info": {
   "name": "python"
  }
 },
 "nbformat": 4,
 "nbformat_minor": 2
}
