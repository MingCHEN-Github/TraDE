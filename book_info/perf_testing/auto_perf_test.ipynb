{
 "cells": [
  {
   "cell_type": "code",
   "execution_count": 1,
   "metadata": {},
   "outputs": [
    {
     "name": "stdout",
     "output_type": "stream",
     "text": [
      "All pods in the namespace are ready and running.\n"
     ]
    }
   ],
   "source": [
    "from kubernetes import client, config\n",
    "\n",
    "def are_all_pods_ready(namespace):\n",
    "    config.load_kube_config()  # Use load_incluster_config() if running inside a pod\n",
    "\n",
    "    # Create an instance of the API class\n",
    "    v1 = client.CoreV1Api()\n",
    "    try:\n",
    "        # List all Pods in the specified namespace\n",
    "        pods = v1.list_namespaced_pod(namespace)\n",
    "        \n",
    "        for pod in pods.items:\n",
    "            # Check if the pod status is not 'Running' or if any of the containers are not ready\n",
    "            if pod.status.phase != 'Running' or not all(container.ready for container in pod.status.container_statuses):\n",
    "                return False  # Return False if any pod is not ready\n",
    "        \n",
    "        return True  # Return True if all pods are ready\n",
    "    except Exception as e:\n",
    "        print(f\"An error occurred: {e}\")\n",
    "        return False  # Return False in case of any error during API call\n",
    "\n",
    "# Example usage\n",
    "namespace = \"default\"  # Specify the namespace you want to check\n",
    "if are_all_pods_ready(namespace):\n",
    "    print(\"All pods in the namespace are ready and running.\")\n",
    "else:\n",
    "    print(\"Some pods in the namespace are not ready or not running.\")\n"
   ]
  },
  {
   "cell_type": "code",
   "execution_count": 6,
   "metadata": {},
   "outputs": [
    {
     "data": {
      "text/html": [
       "<div>\n",
       "<style scoped>\n",
       "    .dataframe tbody tr th:only-of-type {\n",
       "        vertical-align: middle;\n",
       "    }\n",
       "\n",
       "    .dataframe tbody tr th {\n",
       "        vertical-align: top;\n",
       "    }\n",
       "\n",
       "    .dataframe thead th {\n",
       "        text-align: right;\n",
       "    }\n",
       "</style>\n",
       "<table border=\"1\" class=\"dataframe\">\n",
       "  <thead>\n",
       "    <tr style=\"text-align: right;\">\n",
       "      <th></th>\n",
       "      <th>Deployment Name</th>\n",
       "      <th>Pod Name</th>\n",
       "      <th>Host Node</th>\n",
       "      <th>IP Address</th>\n",
       "    </tr>\n",
       "  </thead>\n",
       "  <tbody>\n",
       "    <tr>\n",
       "      <th>0</th>\n",
       "      <td>details-v1</td>\n",
       "      <td>details-v1-5f4d584748-qxkjj</td>\n",
       "      <td>k8s-worker-8</td>\n",
       "      <td>192.168.231.237</td>\n",
       "    </tr>\n",
       "    <tr>\n",
       "      <th>1</th>\n",
       "      <td>example-deployment</td>\n",
       "      <td>example-deployment-b8dd999c9-wlfdk</td>\n",
       "      <td>k8s-worker-6</td>\n",
       "      <td>192.168.227.149</td>\n",
       "    </tr>\n",
       "    <tr>\n",
       "      <th>2</th>\n",
       "      <td>Unknown</td>\n",
       "      <td>loki-0</td>\n",
       "      <td>k8s-worker-5</td>\n",
       "      <td>192.168.18.194</td>\n",
       "    </tr>\n",
       "    <tr>\n",
       "      <th>3</th>\n",
       "      <td>productpage-v1</td>\n",
       "      <td>productpage-v1-564d4686f-vm58t</td>\n",
       "      <td>k8s-worker-2</td>\n",
       "      <td>192.168.140.55</td>\n",
       "    </tr>\n",
       "    <tr>\n",
       "      <th>4</th>\n",
       "      <td>ratings-v1</td>\n",
       "      <td>ratings-v1-686ccfb5d8-hnhzx</td>\n",
       "      <td>k8s-worker-9</td>\n",
       "      <td>192.168.251.120</td>\n",
       "    </tr>\n",
       "    <tr>\n",
       "      <th>5</th>\n",
       "      <td>reviews-v1</td>\n",
       "      <td>reviews-v1-56c6569848-t29jd</td>\n",
       "      <td>k8s-worker-3</td>\n",
       "      <td>192.168.69.236</td>\n",
       "    </tr>\n",
       "    <tr>\n",
       "      <th>6</th>\n",
       "      <td>reviews-v2</td>\n",
       "      <td>reviews-v2-847489d944-hnl6q</td>\n",
       "      <td>k8s-worker-7</td>\n",
       "      <td>192.168.5.39</td>\n",
       "    </tr>\n",
       "    <tr>\n",
       "      <th>7</th>\n",
       "      <td>reviews-v3</td>\n",
       "      <td>reviews-v3-768d79f845-9gw9b</td>\n",
       "      <td>k8s-worker-6</td>\n",
       "      <td>192.168.227.145</td>\n",
       "    </tr>\n",
       "  </tbody>\n",
       "</table>\n",
       "</div>"
      ],
      "text/plain": [
       "      Deployment Name                            Pod Name     Host Node  \\\n",
       "0          details-v1         details-v1-5f4d584748-qxkjj  k8s-worker-8   \n",
       "1  example-deployment  example-deployment-b8dd999c9-wlfdk  k8s-worker-6   \n",
       "2             Unknown                              loki-0  k8s-worker-5   \n",
       "3      productpage-v1      productpage-v1-564d4686f-vm58t  k8s-worker-2   \n",
       "4          ratings-v1         ratings-v1-686ccfb5d8-hnhzx  k8s-worker-9   \n",
       "5          reviews-v1         reviews-v1-56c6569848-t29jd  k8s-worker-3   \n",
       "6          reviews-v2         reviews-v2-847489d944-hnl6q  k8s-worker-7   \n",
       "7          reviews-v3         reviews-v3-768d79f845-9gw9b  k8s-worker-6   \n",
       "\n",
       "        IP Address  \n",
       "0  192.168.231.237  \n",
       "1  192.168.227.149  \n",
       "2   192.168.18.194  \n",
       "3   192.168.140.55  \n",
       "4  192.168.251.120  \n",
       "5   192.168.69.236  \n",
       "6     192.168.5.39  \n",
       "7  192.168.227.145  "
      ]
     },
     "execution_count": 6,
     "metadata": {},
     "output_type": "execute_result"
    }
   ],
   "source": [
    "import pandas as pd\n",
    "\n",
    "initial_placement = pd.read_csv('/home/ubuntu/ms_scheduling/book_info/pod_placement/initial_pod_placement_bookinfo_v2.csv')\n",
    "# Filter the DataFrame for the deployment \"reviews-v1\"\n",
    "reviews_v1_row = initial_placement[initial_placement['Deployment Name'] == 'reviews-v1']\n",
    "\n",
    "# Select the \"Host Node\" value for \"reviews-v1\"\n",
    "host_node_for_reviews_v1 = reviews_v1_row['Host Node'].values[0]\n",
    "\n",
    "print(\"The host node for deployment 'reviews-v1' is:\", host_node_for_reviews_v1)"
   ]
  },
  {
   "cell_type": "code",
   "execution_count": 8,
   "metadata": {},
   "outputs": [
    {
     "name": "stdout",
     "output_type": "stream",
     "text": [
      "Deployment 'example-deployment' patched to schedule pods on 'k8s-worker-7'.\n",
      "Waiting for the rolling update to complete...\n",
      "all_pods_updated= True\n",
      "len(pods)= 0\n",
      "All pods are running on the new node.\n"
     ]
    }
   ],
   "source": [
    "import sys\n",
    "sys.path.append('/home/ubuntu/ms_scheduling/book_info/pod_placement')\n",
    "import pods_migration\n",
    "\n",
    "# Define the patch variables \n",
    "namespace = 'default'  # \n",
    "deployment_name = 'example-deployment'\n",
    "new_node_name = 'k8s-worker-7'  # Target node for the new pods\n",
    "\n",
    "if pods_migration.patch_deployment(deployment_name, namespace, new_node_name):\n",
    "    pods_migration.wait_for_rolling_update_to_complete(deployment_name, namespace, new_node_name)"
   ]
  },
  {
   "cell_type": "code",
   "execution_count": 11,
   "metadata": {},
   "outputs": [
    {
     "name": "stdout",
     "output_type": "stream",
     "text": [
      "10\n",
      "20\n",
      "50\n"
     ]
    }
   ],
   "source": [
    "#the pods that need to be migrated:\n",
    "pod_node_binding = {'reviews-v1':'k8s-worker-2', 'reviews-v2':'k8s-worker-2','reviews-v3':'k8s-worker-2'}\n",
    "\n",
    "Reqs_Num = [10,20,50]\n",
    "\n",
    "for i in Reqs_Num:\n",
    "    print (i)\n",
    "\n",
    "\n"
   ]
  },
  {
   "cell_type": "code",
   "execution_count": 1,
   "metadata": {},
   "outputs": [
    {
     "name": "stdout",
     "output_type": "stream",
     "text": [
      "Starting script at Wed Mar 27 12:30:44 2024\n"
     ]
    },
    {
     "name": "stderr",
     "output_type": "stream",
     "text": [
      "Sending Requests: 100%|██████████| 10/10 [00:33<00:00,  3.33s/request]\n"
     ]
    },
    {
     "name": "stdout",
     "output_type": "stream",
     "text": [
      "Script finished and plot saved at Wed Mar 27 12:31:17 2024\n"
     ]
    }
   ],
   "source": [
    "import curl_response_time_analysis\n",
    "\n",
    "curl_response_time_analysis.run_curl(Req_num=10)"
   ]
  },
  {
   "cell_type": "code",
   "execution_count": null,
   "metadata": {},
   "outputs": [],
   "source": [
    "# get the critical path from correlation matrix\n",
    "descheduling_placement= {}\n",
    "\n",
    "# migrare the pods (roll-update)\n"
   ]
  }
 ],
 "metadata": {
  "kernelspec": {
   "display_name": "Python 3",
   "language": "python",
   "name": "python3"
  },
  "language_info": {
   "codemirror_mode": {
    "name": "ipython",
    "version": 3
   },
   "file_extension": ".py",
   "mimetype": "text/x-python",
   "name": "python",
   "nbconvert_exporter": "python",
   "pygments_lexer": "ipython3",
   "version": "3.10.12"
  }
 },
 "nbformat": 4,
 "nbformat_minor": 2
}
