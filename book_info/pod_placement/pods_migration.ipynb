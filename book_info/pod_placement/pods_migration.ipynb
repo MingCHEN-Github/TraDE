{
 "cells": [
  {
   "cell_type": "code",
   "execution_count": 1,
   "metadata": {},
   "outputs": [
    {
     "name": "stdout",
     "output_type": "stream",
     "text": [
      "Deployment 'example-deployment' patched to schedule pods on 'k8s-worker-6'.\n",
      "Waiting for the rolling update to complete...\n",
      "all_pods_updated= True\n",
      "len(pods)= 0\n",
      "All pods are running on the new node.\n"
     ]
    }
   ],
   "source": [
    "# kubectl patch reviews-1, review-2 and review-3 pod to the node that productpage pod runns on:\n",
    "from kubernetes import client, config\n",
    "import time\n",
    "\n",
    "# Load the kube config from the default location\n",
    "config.load_kube_config()\n",
    "\n",
    "# API instances\n",
    "apps_v1_api = client.AppsV1Api()\n",
    "core_v1_api = client.CoreV1Api()\n",
    "\n",
    "def patch_deployment(deployment_name, namespace, new_node_name):\n",
    "    \"\"\"Patch the deployment to use a specific node.\"\"\"\n",
    "    body = {\n",
    "        \"spec\": {\n",
    "            \"template\": {\n",
    "                \"spec\": {\n",
    "                    \"nodeSelector\": {\n",
    "                        \"kubernetes.io/hostname\": new_node_name\n",
    "                    }\n",
    "                }\n",
    "            }\n",
    "        }\n",
    "    }\n",
    "    try:\n",
    "        apps_v1_api.patch_namespaced_deployment(name=deployment_name, namespace=namespace, body=body)\n",
    "        print(f\"Deployment '{deployment_name}' patched to schedule pods on '{new_node_name}'.\")\n",
    "    except Exception as e:\n",
    "        print(f\"Failed to patch the deployment: {e}\")\n",
    "        return False\n",
    "    return True\n",
    "\n",
    "def wait_for_rolling_update_to_complete(deployment_name, namespace, new_node_name):\n",
    "    \"\"\"Wait for the rolling update to complete.\"\"\"\n",
    "    print(\"Waiting for the rolling update to complete...\")\n",
    "    while True:\n",
    "        pods = core_v1_api.list_namespaced_pod(namespace=namespace, label_selector=f'app={deployment_name}').items\n",
    "        all_pods_updated = all(pod.spec.node_name == new_node_name and\n",
    "                               pod.status.phase == 'Running'\n",
    "                               for pod in pods)\n",
    "        print(\"all_pods_updated=\",all_pods_updated)\n",
    "        print(\"len(pods)=\", len(pods))\n",
    "        if all_pods_updated and len(pods) >= 0:\n",
    "            print(\"All pods are running on the new node.\")\n",
    "            break\n",
    "        else:\n",
    "            print(\"Rolling update in progress...\")\n",
    "            time.sleep(5)\n",
    "\n",
    "\n",
    "\n",
    "# Define the patch variables \n",
    "namespace = 'default'  # \n",
    "deployment_name = 'example-deployment'\n",
    "new_node_name = 'k8s-worker-6'  # Target node for the new pods\n",
    "\n",
    "if patch_deployment(deployment_name, namespace, new_node_name):\n",
    "    wait_for_rolling_update_to_complete(deployment_name, namespace, new_node_name)\n"
   ]
  },
  {
   "cell_type": "code",
   "execution_count": 2,
   "metadata": {},
   "outputs": [
    {
     "name": "stdout",
     "output_type": "stream",
     "text": [
      "Deployment 'reviews-v1' patched to schedule pods on 'k8s-worker-3'.\n"
     ]
    },
    {
     "data": {
      "text/plain": [
       "True"
      ]
     },
     "execution_count": 2,
     "metadata": {},
     "output_type": "execute_result"
    }
   ],
   "source": [
    "# default placement\n",
    "patch_deployment(deployment_name='reviews-v1', namespace='default', new_node_name='k8s-worker-3')\n",
    "# after new placement\n",
    "# patch_deployment(deployment_name='reviews-v1', namespace='default', new_node_name='k8s-worker-2')\n"
   ]
  },
  {
   "cell_type": "code",
   "execution_count": 3,
   "metadata": {},
   "outputs": [
    {
     "name": "stdout",
     "output_type": "stream",
     "text": [
      "Deployment 'reviews-v2' patched to schedule pods on 'k8s-worker-7'.\n"
     ]
    },
    {
     "data": {
      "text/plain": [
       "True"
      ]
     },
     "execution_count": 3,
     "metadata": {},
     "output_type": "execute_result"
    }
   ],
   "source": [
    "#default placement\n",
    "patch_deployment(deployment_name='reviews-v2', namespace='default', new_node_name='k8s-worker-7')\n",
    "#afetr new placement\n",
    "# patch_deployment(deployment_name='reviews-v2', namespace='default', new_node_name='k8s-worker-2')\n"
   ]
  },
  {
   "cell_type": "code",
   "execution_count": 4,
   "metadata": {},
   "outputs": [
    {
     "name": "stdout",
     "output_type": "stream",
     "text": [
      "Deployment 'reviews-v3' patched to schedule pods on 'k8s-worker-6'.\n"
     ]
    },
    {
     "data": {
      "text/plain": [
       "True"
      ]
     },
     "execution_count": 4,
     "metadata": {},
     "output_type": "execute_result"
    }
   ],
   "source": [
    "#default placement\n",
    "patch_deployment(deployment_name='reviews-v3', namespace='default', new_node_name='k8s-worker-6')\n",
    "#after new placement\n",
    "# patch_deployment(deployment_name='reviews-v3', namespace='default', new_node_name='k8s-worker-2')"
   ]
  },
  {
   "cell_type": "code",
   "execution_count": 5,
   "metadata": {},
   "outputs": [
    {
     "name": "stdout",
     "output_type": "stream",
     "text": [
      "Deployment 'details-v1' patched to schedule pods on 'k8s-worker-8'.\n"
     ]
    },
    {
     "data": {
      "text/plain": [
       "True"
      ]
     },
     "execution_count": 5,
     "metadata": {},
     "output_type": "execute_result"
    }
   ],
   "source": [
    "# default placement\n",
    "patch_deployment(deployment_name='details-v1', namespace='default', new_node_name='k8s-worker-8')\n",
    "# after new placement\n",
    "# patch_deployment(deployment_name='details-v1', namespace='default', new_node_name='k8s-worker-2')"
   ]
  }
 ],
 "metadata": {
  "kernelspec": {
   "display_name": "Python 3",
   "language": "python",
   "name": "python3"
  },
  "language_info": {
   "codemirror_mode": {
    "name": "ipython",
    "version": 3
   },
   "file_extension": ".py",
   "mimetype": "text/x-python",
   "name": "python",
   "nbconvert_exporter": "python",
   "pygments_lexer": "ipython3",
   "version": "3.10.12"
  }
 },
 "nbformat": 4,
 "nbformat_minor": 2
}
