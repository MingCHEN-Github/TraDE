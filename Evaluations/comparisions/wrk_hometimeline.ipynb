{
 "cells": [
  {
   "cell_type": "code",
   "execution_count": null,
   "metadata": {},
   "outputs": [],
   "source": [
    "'''load test for homtimeline request'''\n",
    "import os\n",
    "\n",
    "# path to the lua script for the home-timeline request\n",
    "script_path = \"/home/ubuntu/DeathStarBench/socialNetwork/wrk2/scripts/social-network/read-home-timeline.lua\"\n",
    "\n",
    "# urls for the home-timeline request\n",
    "url_1 = \"http://nginx-thrift.social-network.svc.cluster.local:8080/wrk2-api/home-timeline/read\"\n",
    "url_2 = \"http://nginx-thrift.social-network2.svc.cluster.local:8080/wrk2-api/home-timeline/read\"\n",
    "url_3 = \"http://nginx-thrift.social-network3.svc.cluster.local:8080/wrk2-api/home-timeline/read\"\n",
    "\n",
    "\n",
    "QPS = [100, 300]\n",
    "durations = ['1m', '5m', '10m']\n",
    "\n",
    "\n",
    "# using the above urls and script path, run the load test.\n",
    "# the example command running at terminal is:\n",
    "# ubuntu@k8s-master:~/DeathStarBench/socialNetwork$ ../wrk2/wrk -D exp -t2 -c100 -d2m -L -s ./wrk2/scripts/social-network/read-home-timeline.lua  http://nginx-thrift.social-network2.svc.cluster.local:8080/wrk2-api/home-timeline/read -R200\n",
    "for qps in QPS:\n",
    "    for duration in durations:\n",
    "        command_1 = f\"/home/ubuntu/DeathStarBench/wrk2/wrk -D exp -t2 -c50 -d{duration} -L -s {script_path} {url_1} -R{qps}\"\n",
    "        command_2 = f\"/home/ubuntu/DeathStarBench/wrk2/wrk -D exp -t2 -c50 -d{duration} -L -s {script_path} {url_2} -R{qps}\"\n",
    "        command_3 = f\"/home/ubuntu/DeathStarBench/wrk2/wrk -D exp -t2 -c50 -d{duration} -L -s {script_path} {url_3} -R{qps}\"\n",
    "        print(f\"Running command1: {command_1}\")\n",
    "        print(f\"Running command2: {command_2}\")\n",
    "        print(f\"Running command3: {command_3}\")\n",
    "        os.system(command_1)\n",
    "        os.system(command_2)\n",
    "        os.system(command_3)\n",
    "        print(\"Done\")\n"
   ]
  }
 ],
 "metadata": {
  "kernelspec": {
   "display_name": "Python 3",
   "language": "python",
   "name": "python3"
  },
  "language_info": {
   "name": "python",
   "version": "3.10.12"
  }
 },
 "nbformat": 4,
 "nbformat_minor": 2
}
