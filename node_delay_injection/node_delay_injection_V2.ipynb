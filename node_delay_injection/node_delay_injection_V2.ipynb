{
 "cells": [
  {
   "cell_type": "code",
   "execution_count": null,
   "metadata": {},
   "outputs": [],
   "source": [
    "'''modified delay injection method:\n",
    "1) By sperating traffic packages, apply different delays to different detinations from the same worker node\n",
    "2) gnerate more practical delay matrix;\n",
    "'''"
   ]
  },
  {
   "cell_type": "code",
   "execution_count": 1,
   "metadata": {},
   "outputs": [
    {
     "name": "stdout",
     "output_type": "stream",
     "text": [
      "172.26.132.91\n",
      "From k8s-worker-1 to k8s-worker-2: injected latency 27 ms \n",
      "172.26.133.31\n",
      "From k8s-worker-1 to k8s-worker-3: injected latency 37 ms \n",
      "172.26.132.241\n",
      "From k8s-worker-1 to k8s-worker-4: injected latency 47 ms \n",
      "172.26.132.142\n",
      "From k8s-worker-1 to k8s-worker-5: injected latency 57 ms \n",
      "172.26.133.55\n",
      "From k8s-worker-1 to k8s-worker-6: injected latency 67 ms \n",
      "172.26.130.22\n",
      "From k8s-worker-1 to k8s-worker-7: injected latency 77 ms \n",
      "172.26.130.82\n",
      "From k8s-worker-1 to k8s-worker-8: injected latency 87 ms \n",
      "172.26.133.118\n",
      "From k8s-worker-1 to k8s-worker-9: injected latency 97 ms \n"
     ]
    }
   ],
   "source": [
    "import paramiko\n",
    "\n",
    "def apply_latency_between_nodes(source_node_name, username, key_path, interface, begin_latency, node_details):\n",
    "    \"\"\"Apply latency between source and destination nodes using SSH with a private key.\"\"\"\n",
    "    client = paramiko.SSHClient()\n",
    "    client.set_missing_host_key_policy(paramiko.AutoAddPolicy())\n",
    "    client.load_system_host_keys()\n",
    "    \n",
    "    try:\n",
    "        source_node_ip = node_details[source_node_name]['ip']\n",
    "        client.connect(source_node_ip, username=username, key_filename=key_path)\n",
    "        \n",
    "        # Clear existing rules:\n",
    "        client.exec_command(f\"sudo tc qdisc del dev {interface} root\")\n",
    "        client.exec_command(f\"sudo tc qdisc add dev {interface} root handle 1: htb default 1\") # default class 1:1, reserved for other traffics not to these nodes; otherwise, these traffic will be dropped\n",
    "        client.exec_command(f\"sudo tc class add dev {interface} parent 1: classid 1:1 htb rate 100mbps\")\n",
    "        \n",
    "        mark_count = 2 #  Start from 2 to reserve 1:1 as the default class\n",
    "        dst_node_details = exclude_src_node(source_node_name, node_details)\n",
    "        \n",
    "        for dst_node, details in dst_node_details.items():\n",
    "            dst_node_ip = details['ip']\n",
    "            latency = begin_latency + mark_count * 10  # Incremental latency\n",
    "            print(dst_node_ip)\n",
    "            \n",
    "            # Form commands with proper string formatting \n",
    "            # (\"rate\" is the guaranteed bandwidth for the class. \"ceil\" is the maximum bandwidth the class can use when there is spare bandwidth available from other classes.)\n",
    "            command_class_add = f\"sudo tc class add dev {interface} parent 1: classid 1:{mark_count} htb rate 100mbps\"\n",
    "            command_delay_add = f\"sudo tc qdisc add dev {interface} parent 1:{mark_count} handle {mark_count}0: netem delay {latency}ms\"\n",
    "            command_filter_add = f\"sudo tc filter add dev {interface} protocol ip parent 1:0 prio 1 u32 match ip dst {dst_node_ip} flowid 1:{mark_count}\"\n",
    "            \n",
    "            client.exec_command(command_class_add)\n",
    "            client.exec_command(command_delay_add)\n",
    "            client.exec_command(command_filter_add)\n",
    "            \n",
    "            print(f'From {source_node_name} to {dst_node}: injected latency {latency} ms ')\n",
    "            mark_count += 1\n",
    "\n",
    "    except Exception as e:\n",
    "        print(f\"Failed to apply latency for {source_node_name}: {e}\")\n",
    "    finally:\n",
    "        client.close()\n",
    "\n",
    "def exclude_src_node(src_node_name, node_details):\n",
    "    return {name: details for name, details in node_details.items() if name != src_node_name}\n",
    "\n",
    "def automate_latency_injection(source_node_name, begin_latency, node_details):\n",
    "    username = node_details[source_node_name]['username']\n",
    "    key_path = node_details[source_node_name]['key_path']\n",
    "    interface = 'eth0'  # Assuming the interface name is eth0\n",
    "    apply_latency_between_nodes(source_node_name, username, key_path, interface, begin_latency, node_details)\n",
    "\n",
    "# Assuming correct IP addresses and no duplication in node keys\n",
    "node_details = {\n",
    "    'k8s-worker-1': {'ip': '172.26.128.30', 'username': 'ubuntu', 'key_path': '/home/ubuntu/.ssh/id_rsa'},\n",
    "    'k8s-worker-2': {'ip': '172.26.132.91', 'username': 'ubuntu', 'key_path': '/home/ubuntu/.ssh/id_rsa'},\n",
    "    'k8s-worker-3': {'ip': '172.26.133.31', 'username': 'ubuntu', 'key_path': '/home/ubuntu/.ssh/id_rsa'},\n",
    "    'k8s-worker-4': {'ip': '172.26.132.241', 'username': 'ubuntu', 'key_path': '/home/ubuntu/.ssh/id_rsa'},\n",
    "    'k8s-worker-5': {'ip': '172.26.132.142', 'username': 'ubuntu', 'key_path': '/home/ubuntu/.ssh/id_rsa'},\n",
    "    'k8s-worker-6': {'ip': '172.26.133.55', 'username': 'ubuntu', 'key_path': '/home/ubuntu/.ssh/id_rsa'},\n",
    "    'k8s-worker-7': {'ip': '172.26.130.22', 'username': 'ubuntu', 'key_path': '/home/ubuntu/.ssh/id_rsa'},\n",
    "    'k8s-worker-8': {'ip': '172.26.130.82', 'username': 'ubuntu', 'key_path': '/home/ubuntu/.ssh/id_rsa'},\n",
    "    'k8s-worker-9': {'ip': '172.26.133.118', 'username': 'ubuntu', 'key_path': '/home/ubuntu/.ssh/id_rsa'}\n",
    "}\n",
    "\n",
    "automate_latency_injection('k8s-worker-1', 7, node_details)"
   ]
  },
  {
   "cell_type": "code",
   "execution_count": 2,
   "metadata": {},
   "outputs": [
    {
     "name": "stdout",
     "output_type": "stream",
     "text": [
      "172.26.132.91\n",
      "172.26.133.31\n",
      "172.26.132.241\n",
      "172.26.132.142\n",
      "172.26.133.55\n",
      "172.26.130.22\n",
      "172.26.130.82\n",
      "172.26.133.118\n"
     ]
    }
   ],
   "source": [
    "dst_node_details = exclude_src_node(\"k8s-worker-1\", node_details)\n",
    "        \n",
    "for dst_node, details in dst_node_details.items():\n",
    "    dst_node_ip = details['ip']\n",
    "    # latency = begin_latency + mark_count * 10  # Incremental latency\n",
    "    print(dst_node_ip)"
   ]
  },
  {
   "cell_type": "code",
   "execution_count": 8,
   "metadata": {},
   "outputs": [
    {
     "name": "stdout",
     "output_type": "stream",
     "text": [
      "[5, 5, 4, 13, 22, 33, 43, 33, 78]\n",
      "[12, 5, 5, 27, 33, 36, 35, 56, 56]\n",
      "[30, 11, 5, 13, 11, 15, 11, 42, 62]\n",
      "[21, 23, 15, 5, 7, 27, 40, 28, 38]\n",
      "[32, 23, 21, 8, 5, 17, 12, 4, 10]\n",
      "[9, 9, 19, 7, 16, 5, 15, 5, 7]\n",
      "[52, 19, 38, 10, 20, 4, 5, 9, 15]\n",
      "[21, 25, 54, 19, 22, 17, 5, 5, 12]\n",
      "[18, 46, 50, 28, 24, 30, 18, 7, 5]\n"
     ]
    }
   ],
   "source": [
    "import random\n",
    "\n",
    "# Constants\n",
    "NUM_NODES = 9\n",
    "BASE_LATENCY = 5  # Minimum latency in milliseconds\n",
    "MAX_ADDITIONAL_LATENCY = 100  # Additional latency due to distance, congestion, etc.\n",
    "\n",
    "# Initialize a 9x9 matrix with zeros\n",
    "delay_matrix = [[0 for _ in range(NUM_NODES)] for _ in range(NUM_NODES)]\n",
    "\n",
    "# Generate delays\n",
    "for i in range(NUM_NODES):\n",
    "    for j in range(NUM_NODES):\n",
    "        if i == j:\n",
    "            # Same node communication, assume a small base latency\n",
    "            delay_matrix[i][j] = BASE_LATENCY\n",
    "        else:\n",
    "            # Different nodes, add random additional latency\n",
    "            additional_latency = random.uniform(0, MAX_ADDITIONAL_LATENCY)\n",
    "            # Simulate higher latency for nodes further apart\n",
    "            distance_factor = abs(i - j) / NUM_NODES\n",
    "            simulated_latency = BASE_LATENCY + additional_latency * distance_factor\n",
    "            # Simulate random network congestion\n",
    "            congestion_factor = random.uniform(0.8, 1.2)\n",
    "            delay_matrix[i][j] = int(simulated_latency * congestion_factor)\n",
    "\n",
    "# Print the matrix\n",
    "for row in delay_matrix:\n",
    "    print(row)\n",
    "\n"
   ]
  },
  {
   "cell_type": "code",
   "execution_count": null,
   "metadata": {},
   "outputs": [],
   "source": []
  },
  {
   "cell_type": "code",
   "execution_count": 12,
   "metadata": {},
   "outputs": [
    {
     "data": {
      "image/png": "[encoded data removed]",
      "text/plain": [
       "<Figure size 1000x500 with 1 Axes>"
      ]
     },
     "metadata": {},
     "output_type": "display_data"
    }
   ],
   "source": [
    "import numpy as np\n",
    "import matplotlib.pyplot as plt\n",
    "from scipy.stats import truncnorm\n",
    "\n",
    "# Define the range and desired standard deviation\n",
    "min_val, max_val = 10, 100\n",
    "std_dev = 50\n",
    "\n",
    "# Calculate the mean as the midpoint of the range for a symmetric distribution\n",
    "mean_val = (max_val + min_val) / 2\n",
    "\n",
    "# Scale the min and max to the z-scores\n",
    "a, b = (min_val - mean_val) / std_dev, (max_val - mean_val) / std_dev\n",
    "\n",
    "# Generate the truncated normal distribution\n",
    "samples = truncnorm(a, b, loc=mean_val, scale=std_dev).rvs(81)\n",
    "\n",
    "# Plotting the histogram of the generated samples\n",
    "plt.figure(figsize=(10, 5))\n",
    "plt.hist(samples, bins=100, color='blue', alpha=0.7, edgecolor='black')\n",
    "plt.title('Histogram of Truncated Normal Distribution Samples')\n",
    "plt.xlabel('Time (ms)')\n",
    "plt.ylabel('Frequency')\n",
    "plt.grid(True)\n",
    "plt.show()\n"
   ]
  }
 ],
 "metadata": {
  "kernelspec": {
   "display_name": "Python 3",
   "language": "python",
   "name": "python3"
  },
  "language_info": {
   "codemirror_mode": {
    "name": "ipython",
    "version": 3
   },
   "file_extension": ".py",
   "mimetype": "text/x-python",
   "name": "python",
   "nbconvert_exporter": "python",
   "pygments_lexer": "ipython3",
   "version": "3.10.12"
  }
 },
 "nbformat": 4,
 "nbformat_minor": 2
}
